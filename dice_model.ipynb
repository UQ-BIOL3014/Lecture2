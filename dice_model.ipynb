{
 "cells": [
  {
   "cell_type": "markdown",
   "metadata": {},
   "source": [
    "Created by Mitchell Stanton-Cook\n",
    "\n",
    "Bug fixes: m.stantoncook@uq.edu.au\n",
    "\n",
    "---"
   ]
  },
  {
   "cell_type": "markdown",
   "metadata": {},
   "source": [
    "# Modelling rolling of a dice #"
   ]
  },
  {
   "cell_type": "markdown",
   "metadata": {},
   "source": [
    "Setup the plotting and import required modules:"
   ]
  },
  {
   "cell_type": "code",
   "execution_count": 88,
   "metadata": {
    "collapsed": true
   },
   "outputs": [],
   "source": [
    "%matplotlib inline\n",
    "\n",
    "# Import the random modules random integer generator\n",
    "from random import randint\n",
    "import pylab"
   ]
  },
  {
   "cell_type": "markdown",
   "metadata": {},
   "source": [
    "Define a function to return a random value between 1 and 6:"
   ]
  },
  {
   "cell_type": "code",
   "execution_count": 89,
   "metadata": {
    "collapsed": true
   },
   "outputs": [],
   "source": [
    "def throw_dice():\n",
    "    \"\"\"\n",
    "    Simulates throwing a dice\n",
    "    \"\"\"\n",
    "    # Intially a very simple model\n",
    "    return randint(1, 6)"
   ]
  },
  {
   "cell_type": "markdown",
   "metadata": {},
   "source": [
    "Generate a dice roll. Repeat it a few times to prove it's random:"
   ]
  },
  {
   "cell_type": "code",
   "execution_count": 91,
   "metadata": {
    "collapsed": false
   },
   "outputs": [
    {
     "name": "stdout",
     "output_type": "stream",
     "text": [
      "2\n"
     ]
    }
   ],
   "source": [
    "print throw_dice()"
   ]
  },
  {
   "cell_type": "markdown",
   "metadata": {},
   "source": [
    "Rewrite the throw_dice module so that it returns a list of required rolls:"
   ]
  },
  {
   "cell_type": "code",
   "execution_count": 94,
   "metadata": {
    "collapsed": false
   },
   "outputs": [],
   "source": [
    "def throw_dice(n=1):\n",
    "    \"\"\"\n",
    "    Simulates throwing a dice\n",
    "    :param n: the number of times the dice will be thrown. Defaults to 1.\n",
    "    \n",
    "    :returns: a list of results [1-6]\n",
    "    \"\"\"\n",
    "    results = []\n",
    "    for i in range(n):\n",
    "        results.append(randint(1, 6))\n",
    "    return results"
   ]
  },
  {
   "cell_type": "markdown",
   "metadata": {},
   "source": [
    "Generate 25 consecutive dice rolls"
   ]
  },
  {
   "cell_type": "code",
   "execution_count": 95,
   "metadata": {
    "collapsed": false
   },
   "outputs": [
    {
     "name": "stdout",
     "output_type": "stream",
     "text": [
      "[2, 3, 4, 1, 5, 5, 4, 5, 1, 3, 3, 3, 1, 4, 1, 2, 1, 2, 4, 2, 4, 2, 6, 2, 5]\n"
     ]
    }
   ],
   "source": [
    "print throw_dice(25)"
   ]
  },
  {
   "cell_type": "markdown",
   "metadata": {},
   "source": [
    "Now, generate a function to sum the observations:"
   ]
  },
  {
   "cell_type": "code",
   "execution_count": 96,
   "metadata": {
    "collapsed": true
   },
   "outputs": [],
   "source": [
    "from collections import Counter\n",
    "\n",
    "def dice_observation_calcs(obs):\n",
    "    \"\"\"\n",
    "    Given a list of dice rolls (in range 1-6) prints the number of observations \n",
    "    for each value\n",
    "    \n",
    "    :param obs: a list of simulated rolls\n",
    "    \"\"\"\n",
    "    print Counter(obs)\n",
    "    "
   ]
  },
  {
   "cell_type": "markdown",
   "metadata": {},
   "source": [
    "Investigate the number of times a number appears using the dice_observation_calcs function"
   ]
  },
  {
   "cell_type": "code",
   "execution_count": 97,
   "metadata": {
    "collapsed": false
   },
   "outputs": [
    {
     "name": "stdout",
     "output_type": "stream",
     "text": [
      "Counter({2: 186, 3: 170, 4: 168, 5: 162, 6: 158, 1: 156})\n"
     ]
    }
   ],
   "source": [
    "dice_observation_calcs(throw_dice(1000))"
   ]
  },
  {
   "cell_type": "markdown",
   "metadata": {},
   "source": [
    "Sort the keys by values (1-6), calculate the frequency & pretty print"
   ]
  },
  {
   "cell_type": "code",
   "execution_count": 98,
   "metadata": {
    "collapsed": true
   },
   "outputs": [],
   "source": [
    "from collections import Counter\n",
    "\n",
    "def dice_observation_calcs(obs):\n",
    "    \"\"\"\n",
    "    Given a list of dice rolls (in range 1-6) the the frequency of observations \n",
    "    for each value\n",
    "    \n",
    "    :param obs: a list of simulated rolls\n",
    "    \n",
    "    \"\"\"\n",
    "    counts = Counter(obs)\n",
    "    s_keys = sorted(counts.keys())\n",
    "    for elem in s_keys:\n",
    "        print str(elem)+\" \"+str(counts[elem]/float(len(obs)))"
   ]
  },
  {
   "cell_type": "markdown",
   "metadata": {},
   "source": [
    "Target = 0.166666666667 "
   ]
  },
  {
   "cell_type": "code",
   "execution_count": 103,
   "metadata": {
    "collapsed": false
   },
   "outputs": [
    {
     "name": "stdout",
     "output_type": "stream",
     "text": [
      "1 0.13\n",
      "2 0.17\n",
      "3 0.12\n",
      "4 0.25\n",
      "5 0.19\n",
      "6 0.14\n"
     ]
    }
   ],
   "source": [
    "dice_observation_calcs(throw_dice(100))"
   ]
  },
  {
   "cell_type": "code",
   "execution_count": 104,
   "metadata": {
    "collapsed": false
   },
   "outputs": [
    {
     "name": "stdout",
     "output_type": "stream",
     "text": [
      "1 0.178\n",
      "2 0.15\n",
      "3 0.159\n",
      "4 0.17\n",
      "5 0.184\n",
      "6 0.159\n"
     ]
    }
   ],
   "source": [
    "dice_observation_calcs(throw_dice(1000))"
   ]
  },
  {
   "cell_type": "code",
   "execution_count": 105,
   "metadata": {
    "collapsed": false
   },
   "outputs": [
    {
     "name": "stdout",
     "output_type": "stream",
     "text": [
      "1 0.167108\n",
      "2 0.167162\n",
      "3 0.166556\n",
      "4 0.166269\n",
      "5 0.166712\n",
      "6 0.166193\n"
     ]
    }
   ],
   "source": [
    "dice_observation_calcs(throw_dice(1000000))"
   ]
  },
  {
   "cell_type": "markdown",
   "metadata": {},
   "source": [
    "New function. Just look at the number of '1' thrown"
   ]
  },
  {
   "cell_type": "code",
   "execution_count": 107,
   "metadata": {
    "collapsed": true
   },
   "outputs": [],
   "source": [
    "from collections import Counter\n",
    "\n",
    "def dice_observation_calcs_for_one(obs):\n",
    "    \"\"\"\n",
    "    Given a list of dice rolls (in range 1-6) returns the the frequency of observations \n",
    "    for the number of 1's rolled\n",
    "    \n",
    "    :param obs: a list of simulated rolls\n",
    "    \n",
    "    \"\"\"\n",
    "    counts = Counter(obs)\n",
    "    return counts[1]/float(len(obs))"
   ]
  },
  {
   "cell_type": "code",
   "execution_count": 108,
   "metadata": {
    "collapsed": false
   },
   "outputs": [
    {
     "name": "stdout",
     "output_type": "stream",
     "text": [
      "0.1643\n"
     ]
    }
   ],
   "source": [
    "print dice_observation_calcs_for_one(throw_dice(10000))"
   ]
  },
  {
   "cell_type": "markdown",
   "metadata": {},
   "source": [
    "Now perform an experiment:"
   ]
  },
  {
   "cell_type": "code",
   "execution_count": 109,
   "metadata": {
    "collapsed": false
   },
   "outputs": [],
   "source": [
    "rolls = [10, 100, 1000, 10000, 100000, 1000000, 10000000]\n",
    "ones_obs = []\n",
    "for roll in rolls:\n",
    "    ones_obs.append(dice_observation_calcs_for_one(throw_dice(roll)))"
   ]
  },
  {
   "cell_type": "code",
   "execution_count": 111,
   "metadata": {
    "collapsed": false
   },
   "outputs": [
    {
     "name": "stdout",
     "output_type": "stream",
     "text": [
      "[0.3, 0.18, 0.164, 0.1639, 0.16804, 0.166335, 0.1667591]\n"
     ]
    }
   ],
   "source": [
    "print ones_obs"
   ]
  },
  {
   "cell_type": "code",
   "execution_count": 114,
   "metadata": {
    "collapsed": false
   },
   "outputs": [
    {
     "name": "stdout",
     "output_type": "stream",
     "text": [
      "0.166666666667\n"
     ]
    }
   ],
   "source": [
    "print 1/(float(6))"
   ]
  },
  {
   "cell_type": "code",
   "execution_count": 122,
   "metadata": {
    "collapsed": false
   },
   "outputs": [
    {
     "data": {
      "text/plain": [
       "[<matplotlib.lines.Line2D at 0x1133712d0>]"
      ]
     },
     "execution_count": 122,
     "metadata": {},
     "output_type": "execute_result"
    },
    {
     "data": {
      "image/png": "[encoded data removed]",
      "text/plain": [
       "<matplotlib.figure.Figure at 0x1131b2ed0>"
      ]
     },
     "metadata": {},
     "output_type": "display_data"
    }
   ],
   "source": [
    "pylab.title(\"The effects of sample size on P(1) Estimation\")\n",
    "pylab.xlabel(\"Throws (log)\")\n",
    "pylab.ylabel(\"Sampled P(1)\")\n",
    "pylab.ylim(ymin=0, ymax=0.5)\n",
    "pylab.semilogx(rolls, ones_obs, marker='o', linestyle='--')"
   ]
  }
 ],
 "metadata": {
  "kernelspec": {
   "display_name": "Python 2",
   "language": "python",
   "name": "python2"
  },
  "language_info": {
   "codemirror_mode": {
    "name": "ipython",
    "version": 2
   },
   "file_extension": ".py",
   "mimetype": "text/x-python",
   "name": "python",
   "nbconvert_exporter": "python",
   "pygments_lexer": "ipython2",
   "version": "2.7.8"
  }
 },
 "nbformat": 4,
 "nbformat_minor": 0
}
